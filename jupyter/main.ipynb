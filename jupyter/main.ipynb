{
 "cells": [
  {
   "cell_type": "code",
   "execution_count": 1,
   "metadata": {},
   "outputs": [],
   "source": [
    "import os\n",
    "import sys\n",
    "import json\n",
    "import requests\n",
    "import numpy as np\n",
    "import pandas as pd\n",
    "import matplotlib.pyplot as plt\n",
    "\n",
    "from ipywidgets import interactive"
   ]
  },
  {
   "cell_type": "code",
   "execution_count": 2,
   "metadata": {},
   "outputs": [],
   "source": [
    "path = \"/home/manousos/myfiles/thesis\"\n",
    "startyear = \"2014\"\n",
    "endyear = \"2014\"\n",
    "loss = \"14\"\n",
    "\n",
    "places = {\n",
    "    1: (35.512, 24.012),\n",
    "    2: (35.364, 24.471),\n",
    "    3: (35.343, 25.153),\n",
    "    4: (35.185, 25.706),\n",
    "    5: (35.050, 24.877)\n",
    "}"
   ]
  },
  {
   "cell_type": "code",
   "execution_count": 3,
   "metadata": {},
   "outputs": [
    {
     "name": "stdout",
     "output_type": "stream",
     "text": [
      "Select pre-defined place from the list below (1-5) or press 6 to provide custom coordinates:\n",
      "[1] Chania\n",
      "[2] Rethymno\n",
      "[3] Heraklio\n",
      "[4] Ag.Nikolaos\n",
      "[5] Moires\n",
      "[6] Custom\n",
      "5\n",
      "\n",
      "Choose project duration:\n",
      "[1] Day\n",
      "[2] Year\n",
      "1\n"
     ]
    }
   ],
   "source": [
    "print(\"Select pre-defined place from the list below (1-5) \"\n",
    "      +\"or press 6 to provide custom coordinates:\")\n",
    "\n",
    "choice = int(input(\"[1] Chania\\n[2] Rethymno\\n\"\n",
    "                   +\"[3] Heraklio\\n[4] Ag.Nikolaos\\n\"\n",
    "                   +\"[5] Moires\\n[6] Custom\\n\"))\n",
    "\n",
    "while choice > 6 or choice < 1:\n",
    "    print(\"\\nInvalid answer. Please choose one of the below:\")\n",
    "    choice = int(input(\"[1] Chania\\n[2] Rethymno\\n\"\n",
    "                       +\"[3] Heraklio\\n[4] Ag.Nikolaos\\n\"\n",
    "                       +\"[5] Moires\\n[6] Custom\\n\"))\n",
    "\n",
    "\n",
    "if choice == 6:\n",
    "    lat = input(\"Latitude of area: \")\n",
    "    while float(lat) < -90.0 or float(lat) > 90.0 :\n",
    "        print(\"Invalid range for latitude...\")\n",
    "        lat = input(\"Please provide valid input (-90, 90): \")\n",
    "\n",
    "    lon = input(\"Longitude of area: \")\n",
    "    while float(lon) < -180.0 or float(lon) > 180.0 :\n",
    "        print(\"Invalid range for longitude...\")\n",
    "        lat = input(\"Please provide valid input (-180, 180): \")\n",
    "else:\n",
    "    lat = str(places[choice][0])\n",
    "    lon = str(places[choice][1])\n",
    "\n",
    "\n",
    "print(\"\\nChoose project duration:\")\n",
    "dur = int(input(\"[1] Day\\n[2] Year\\n\"))\n",
    "\n",
    "while dur > 2 or choice < 1:\n",
    "    print(\"\\nInvalid answer. Please choose one of the below:\")\n",
    "    dur = int(input(\"[1] Day\\n[2] Year\\n\"))"
   ]
  },
  {
   "cell_type": "code",
   "execution_count": 4,
   "metadata": {},
   "outputs": [
    {
     "name": "stdout",
     "output_type": "stream",
     "text": [
      "\n",
      "Connection Established!\n",
      "Downloading data...\n",
      "\n",
      "\n",
      "Saved data to file pv_formatted.csv\n"
     ]
    }
   ],
   "source": [
    "url = (\"https://re.jrc.ec.europa.eu/api/seriescalc?lat=\"\n",
    "     +lat+\"&lon=\"+lon+\"&startyear=\"+startyear+\"&endyear=\"\n",
    "     +endyear+\"&peakpower=1&angle=\"+lat\n",
    "     +\"&loss=\"+loss+\"&pvcalculation=1\")\n",
    "r = requests.get(url)\n",
    "\n",
    "if r.status_code == 200:\n",
    "    print(\"\\nConnection Established!\\nDownloading data...\\n\")\n",
    "    os.system(\"curl \\'\"+url+\"\\' | tail -n+11 | head -n-11 >\"+path+\"/data/pv_formatted.csv\")\n",
    "    print(\"\\nSaved data to file pv_formatted.csv\")\n",
    "\n",
    "else:\n",
    "    sys.exit(\"\\nConnection failed\\nStatus Code: \" + str(r.status_code))\n",
    "    \n",
    "\n",
    "gridload = pd.read_csv(path + \"/data/moires_gridload.csv\", sep=\":\")\n",
    "pv = pd.read_csv(path + \"/data/pv_formatted.csv\")"
   ]
  },
  {
   "cell_type": "code",
   "execution_count": 5,
   "metadata": {},
   "outputs": [],
   "source": [
    "def year(solar):\n",
    "    global y_grid, y_pv, period\n",
    "    \n",
    "    y_grid = gridload.drop(gridload.columns[0:2], axis=1).stack().array\n",
    "    y_pv = pv['P'] * solar / 1_000_000 # converting to MW from W\n",
    "\n",
    "    x = range(8760)\n",
    "    xlabel = 'Hour of the day'\n",
    "    period = 'year'\n",
    "    \n",
    "    plt.plot(x, y_grid)\n",
    "    plt.plot(x, y_pv)\n",
    "\n",
    "    plt.xlabel(xlabel)\n",
    "    plt.ylabel('Power (MW)')\n",
    "    plt.title('Grid load and Power output of PV')\n",
    "\n",
    "    plt.grid(True)\n",
    "    plt.legend(['Grid Load', 'PV output'])\n",
    "    plt.show()\n",
    "\n",
    "\n",
    "def day(solar):\n",
    "    global y_grid, y_pv, period\n",
    "    \n",
    "    y_grid = gridload.drop(gridload.columns[0:2], axis=1).mean()\n",
    "    \n",
    "    pv_conversion = pv['P'] * solar\n",
    "    data_pv = pv_conversion.iloc[::24] / 1_000_000 # converting to MW from W\n",
    "    data_pv = data_pv.to_frame().rename(columns={'P': 0}).reset_index().drop(columns=\"index\")\n",
    "\n",
    "    for i in range(1,24):\n",
    "        filter = pv_conversion.iloc[i::24] / 1_000_000\n",
    "        df_newcol = pd.DataFrame(filter)\n",
    "        df_newcol = df_newcol.reset_index().drop(columns=\"index\")\n",
    "        data_pv[i] = df_newcol\n",
    "    \n",
    "    y_pv = data_pv.mean()\n",
    "\n",
    "    x = range(24)\n",
    "    xlabel = 'Hour of the day'\n",
    "    period = 'day'\n",
    "    \n",
    "    plt.plot(x, y_grid)\n",
    "    plt.plot(x, y_pv)\n",
    "\n",
    "    plt.xlabel(xlabel)\n",
    "    plt.ylabel('Power (MW)')\n",
    "    plt.title('Grid load and Power output of PV')\n",
    "\n",
    "    plt.grid(True)\n",
    "    plt.legend(['Grid Load', 'PV output'])\n",
    "    plt.show()"
   ]
  },
  {
   "cell_type": "code",
   "execution_count": 6,
   "metadata": {
    "scrolled": false
   },
   "outputs": [
    {
     "data": {
      "application/vnd.jupyter.widget-view+json": {
       "model_id": "14d5699613df460a8078cd5f815ec362",
       "version_major": 2,
       "version_minor": 0
      },
      "text/plain": [
       "interactive(children=(IntSlider(value=15000, description='solar', max=30000, min=1000, step=1000), Output()), …"
      ]
     },
     "metadata": {},
     "output_type": "display_data"
    }
   ],
   "source": [
    "if dur == 1:\n",
    "    interactive_plot = interactive(day, solar=(1000, 30000, 1000))\n",
    "else:\n",
    "    interactive_plot = interactive(year, solar=(1000, 30000, 1000))\n",
    "\n",
    "interactive_plot"
   ]
  },
  {
   "cell_type": "code",
   "execution_count": 9,
   "metadata": {
    "scrolled": true
   },
   "outputs": [
    {
     "name": "stdout",
     "output_type": "stream",
     "text": [
      "\n",
      "0.0 MWh are wasted each day!\n"
     ]
    }
   ],
   "source": [
    "balance = np.array(y_pv.array - y_grid.array)\n",
    "excess_power = balance[balance > 0].sum()\n",
    "excess_power_duration = balance[balance > 0].size\n",
    "excess_energy = excess_power * excess_power_duration\n",
    "\n",
    "print(f'\\n{excess_energy:.5} MWh are wasted each ' + period + '!')"
   ]
  },
  {
   "cell_type": "code",
   "execution_count": 8,
   "metadata": {},
   "outputs": [
    {
     "name": "stdout",
     "output_type": "stream",
     "text": [
      "0 batteries are needed to store this excess energy.\n"
     ]
    }
   ],
   "source": [
    "with open(path+\"/data/battery.json\", 'r') as f:\n",
    "    data = json.load(f)\n",
    "    bat = pd.DataFrame(data, index=[0])\n",
    "\n",
    "capacity = bat['capacity'].values / 1000 # converting to MWh from kWh\n",
    "batteries_needed = excess_energy // capacity\n",
    "\n",
    "print(f'{int(batteries_needed[0])} batteries are needed to '\n",
    "        +'store this excess energy.')"
   ]
  }
 ],
 "metadata": {
  "kernelspec": {
   "display_name": "Python 3",
   "language": "python",
   "name": "python3"
  },
  "language_info": {
   "codemirror_mode": {
    "name": "ipython",
    "version": 3
   },
   "file_extension": ".py",
   "mimetype": "text/x-python",
   "name": "python",
   "nbconvert_exporter": "python",
   "pygments_lexer": "ipython3",
   "version": "3.9.10"
  }
 },
 "nbformat": 4,
 "nbformat_minor": 4
}
